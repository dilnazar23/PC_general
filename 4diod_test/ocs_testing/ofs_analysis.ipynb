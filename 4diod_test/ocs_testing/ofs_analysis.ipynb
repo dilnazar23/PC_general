{
 "cells": [
  {
   "cell_type": "code",
   "execution_count": 2,
   "metadata": {},
   "outputs": [],
   "source": [
    "import numpy as np\n",
    "import torch\n",
    "import matplotlib.pyplot as plt\n",
    "import os"
   ]
  },
  {
   "cell_type": "code",
   "execution_count": 3,
   "metadata": {},
   "outputs": [
    {
     "name": "stderr",
     "output_type": "stream",
     "text": [
      "\n",
      "KeyboardInterrupt\n",
      "\n"
     ]
    }
   ],
   "source": [
    "# read the csv file , seperate as x, y, diod1,2,3,4\n",
    "raw = np.loadtxt(\"18m_aligned_live_16%.csv\", delimiter=\",\",skiprows=1)\n",
    "in_set = torch.tensor(raw[:,0:2], dtype=torch.float32)\n",
    "out_set =  torch.tensor(raw[:,2:6], dtype=torch.float32)\n"
   ]
  },
  {
   "cell_type": "code",
   "execution_count": null,
   "metadata": {},
   "outputs": [],
   "source": [
    "diod1_mean = np.array(raw[:,2]).mean()\n",
    "diod2_mean = np.array(raw[:,3]).mean()\n",
    "diod3_mean = np.array(raw[:,4]).mean()\n",
    "diod4_mean = np.array(raw[:,5]).mean()\n",
    "diod1_std = np.array(raw[:,2]).std()\n",
    "diod2_std = np.array(raw[:,3]).std()\n",
    "diod3_std = np.array(raw[:,4]).std()\n",
    "diod4_std = np.array(raw[:,5]).std()"
   ]
  },
  {
   "cell_type": "code",
   "execution_count": null,
   "metadata": {},
   "outputs": [],
   "source": [
    "diod1_mean,diod1_std,diod2_mean,diod2_std,diod3_mean,diod3_std,diod4_mean,diod4_std"
   ]
  },
  {
   "cell_type": "code",
   "execution_count": null,
   "metadata": {},
   "outputs": [],
   "source": [
    "plt.figure(figsize=(5,4))\n",
    "plt.scatter(raw[:,0], raw[:,1], c=raw[:,2], cmap='plasma')\n",
    "plt.colorbar()\n",
    "plt.title(\"diode1\")\n",
    "plt.xlabel(\"x position\")\n",
    "plt.ylabel(\"y position\")\n",
    "plt.figure(figsize=(5, 4))\n",
    "plt.scatter(raw[:,0], raw[:,1], c=raw[:,3], cmap='plasma')\n",
    "plt.colorbar()\n",
    "plt.title(\"diode2\")\n",
    "plt.xlabel(\"x position\")\n",
    "plt.ylabel(\"y position\")\n",
    "plt.figure(figsize=(5, 4))\n",
    "plt.scatter(raw[:,0], raw[:,1], c=raw[:,4], cmap='plasma')\n",
    "plt.colorbar()\n",
    "plt.title(\"diode3\")\n",
    "plt.xlabel(\"x position\")\n",
    "plt.ylabel(\"y position\")\n",
    "plt.figure(figsize=(5, 4))\n",
    "plt.scatter(raw[:,0], raw[:,1], c=raw[:,5], cmap='plasma')\n",
    "plt.colorbar()\n",
    "plt.title(\"diode4\")\n",
    "plt.xlabel(\"x position\")\n",
    "plt.ylabel(\"y position\")\n",
    "plt.show()\n"
   ]
  },
  {
   "cell_type": "code",
   "execution_count": null,
   "metadata": {},
   "outputs": [],
   "source": [
    "plt.figure(figsize=(6, 4))\n",
    "plt.scatter(range(len(raw[:,2])),raw[:,2],s=3)\n",
    "plt.title(\"diod1 reading respect to time\")\n",
    "plt.xlabel(\"data sequence\")\n",
    "plt.ylabel(\"diode data\")\n",
    "plt.figure(figsize=(6, 4))\n",
    "plt.scatter(range(len(raw[:,2])),raw[:,3],s=3)\n",
    "plt.title(\"diod2 reading respect to time\")\n",
    "plt.xlabel(\"data sequence\")\n",
    "plt.ylabel(\"diode data\")\n",
    "plt.figure(figsize=(6, 4))\n",
    "plt.scatter(range(len(raw[:,2])),raw[:,4],s=3)\n",
    "plt.title(\"diod3 reading respect to time\")\n",
    "plt.xlabel(\"data sequence\")\n",
    "plt.ylabel(\"diode data\")\n",
    "plt.figure(figsize=(6, 4))\n",
    "plt.scatter(range(len(raw[:,2])),raw[:,5],s=3)\n",
    "plt.title(\"diod4 reading respect to time\")\n",
    "plt.xlabel(\"data sequence\")\n",
    "plt.ylabel(\"diode data\")"
   ]
  },
  {
   "cell_type": "code",
   "execution_count": null,
   "metadata": {},
   "outputs": [],
   "source": [
    "# FFT\n",
    "diod_1 = raw[:,2]\n",
    "fft_signal = np.fft.fft(raw[:,2])\n",
    "frequencies = np.fft.fftfreq(len(diod_1), d=0.001)\n",
    "\n",
    "# Apply high-pass filter\n",
    "cutoff = 50 # Cutoff frequency in Hz\n",
    "fft_signal[np.abs(frequencies) < cutoff] = 0  # Zero out low frequencies\n",
    "\n",
    "# Perform inverse FFT\n",
    "filtered_signal = np.fft.ifft(fft_signal)\n",
    "\n",
    "# Plot the original and filtered signals\n",
    "plt.figure(figsize=(10, 6))\n",
    "plt.plot(range(len(diod_1)), diod_1, label='Original Signal')\n",
    "plt.plot(range(len(diod_1)), filtered_signal.real, label='Filtered Signal')\n",
    "plt.legend()\n",
    "plt.title('High-Pass Filter Using FFT')\n",
    "plt.xlabel('Time (s)')\n",
    "plt.ylabel('Amplitude')\n",
    "plt.grid()\n",
    "plt.show()\n"
   ]
  }
 ],
 "metadata": {
  "kernelspec": {
   "display_name": "ocs_testing",
   "language": "python",
   "name": "python3"
  },
  "language_info": {
   "codemirror_mode": {
    "name": "ipython",
    "version": 3
   },
   "file_extension": ".py",
   "mimetype": "text/x-python",
   "name": "python",
   "nbconvert_exporter": "python",
   "pygments_lexer": "ipython3",
   "version": "3.11.11"
  }
 },
 "nbformat": 4,
 "nbformat_minor": 2
}
