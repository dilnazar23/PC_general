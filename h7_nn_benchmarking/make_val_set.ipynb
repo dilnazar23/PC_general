{
 "cells": [
  {
   "cell_type": "code",
   "execution_count": 1,
   "metadata": {},
   "outputs": [],
   "source": [
    "import numpy as np\n",
    "import os"
   ]
  },
  {
   "cell_type": "code",
   "execution_count": 5,
   "metadata": {},
   "outputs": [
    {
     "name": "stdout",
     "output_type": "stream",
     "text": [
      "validate output data: \n",
      "[[ 184.  184.]\n",
      " [ 184.  286.]\n",
      " [ 286.  286.]\n",
      " ...\n",
      " [3254.  286.]\n",
      " [3357.  286.]\n",
      " [3357.  184.]]\n",
      "validate input data: \n",
      "[[4685. 4367. 5095. 4632.]\n",
      " [4622. 4417. 5093. 4610.]\n",
      " [4639. 4447. 5109. 4606.]\n",
      " ...\n",
      " [5207. 4704. 4601. 4225.]\n",
      " [5238. 4695. 4661. 4199.]\n",
      " [5229. 4694. 4664. 4196.]]\n"
     ]
    }
   ],
   "source": [
    "file_path = \"0301_1_hil.csv\"\n",
    "val_data_out = np.loadtxt(file_path,delimiter=',',max_rows=1024,skiprows=1,usecols=(0,1),dtype=np.float32)\n",
    "val_data_in = np.loadtxt(file_path,delimiter=',',max_rows=1024,skiprows=1,usecols=(2,3,4,5),dtype=np.float32)\n",
    "\n",
    "print(f\"validate output data: \\n{val_data_out}\")\n",
    "print(f\"validate input data: \\n{val_data_in}\")\n",
    "\n",
    "np.savetxt('val_input.csv',val_data_in,delimiter=',',fmt='%.8f')\n",
    "np.savetxt('val_output.csv',val_data_out,delimiter=',',fmt='%.8f')\n"
   ]
  },
  {
   "cell_type": "code",
   "execution_count": null,
   "metadata": {},
   "outputs": [],
   "source": []
  }
 ],
 "metadata": {
  "kernelspec": {
   "display_name": "visualise_env",
   "language": "python",
   "name": "python3"
  },
  "language_info": {
   "codemirror_mode": {
    "name": "ipython",
    "version": 3
   },
   "file_extension": ".py",
   "mimetype": "text/x-python",
   "name": "python",
   "nbconvert_exporter": "python",
   "pygments_lexer": "ipython3",
   "version": "3.12.7"
  }
 },
 "nbformat": 4,
 "nbformat_minor": 2
}
