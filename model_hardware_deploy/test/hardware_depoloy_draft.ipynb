{
 "cells": [
  {
   "cell_type": "code",
   "execution_count": 2,
   "metadata": {},
   "outputs": [],
   "source": [
    "import onnxruntime as ort\n",
    "import numpy as np\n",
    "import torch\n",
    "from torch.utils.data import Dataset, DataLoader"
   ]
  },
  {
   "cell_type": "markdown",
   "metadata": {},
   "source": [
    "## inference on entire training set on onnx model and save output"
   ]
  },
  {
   "cell_type": "code",
   "execution_count": null,
   "metadata": {},
   "outputs": [],
   "source": [
    "# load data from .pt file with keys 'inputs' and 'targets'\n",
    "class SequenceDataset(Dataset):\n",
    "    def __init__(self, train_path, seq_length=40):\n",
    "        self.inputs, self.targets = torch.load(train_path)\n",
    "        self.seq_length = seq_length\n",
    "        \n",
    "    def __len__(self):\n",
    "        return len(self.inputs) - self.seq_length + 1\n",
    "    \n",
    "    def __getitem__(self, idx):\n",
    "        return (self.inputs[idx:idx + self.seq_length], \n",
    "                self.targets[idx + self.seq_length - 1])\n",
    "\n",
    "# load model from .onnx file\n",
    "# run inference\n",
    "# save output to .npz file\n",
    "\n"
   ]
  },
  {
   "cell_type": "markdown",
   "metadata": {},
   "source": [
    "Convert this to a npz file\n",
    "inpnut:601\n",
    "828\n",
    "879\n",
    "749\n",
    "785\n",
    "554\n",
    "796\n",
    "1032\n",
    "599\n",
    "827\n",
    "907\n",
    "742\n",
    "791\n",
    "543\n",
    "788\n",
    "1024\n",
    "601\n",
    "829\n",
    "905\n",
    "747\n",
    "777\n",
    "524\n",
    "793\n",
    "1025\n",
    "599\n",
    "833\n",
    "905\n",
    "745\n",
    "791\n",
    "524\n",
    "766\n",
    "1027\n",
    "Output:\n",
    "3.58698535\n",
    "8.9983654"
   ]
  },
  {
   "cell_type": "code",
   "execution_count": null,
   "metadata": {},
   "outputs": [],
   "source": [
    "import numpy as np\n",
    "\n",
    "# Your data\n",
    "data = [\n",
    "    601, 828, 879, 749, 785, 554, 796, 1032,\n",
    "    599, 827, 907, 742, 791, 543, 788, 1024,\n",
    "    601, 829, 905, 747, 777, 524, 793, 1025,\n",
    "    599, 833, 905, 745, 791, 524, 766, 1027\n",
    "]\n",
    "\n",
    "# Convert to numpy array\n",
    "arr = np.array(data)\n",
    "\n",
    "# Save as .npy file\n",
    "np.save(\"val_1_input.npy\", arr)\n",
    "\n",
    "print(f\"Array saved as val_1_input.npy with shape: {arr.shape}\")"
   ]
  },
  {
   "cell_type": "code",
   "execution_count": null,
   "metadata": {},
   "outputs": [],
   "source": []
  }
 ],
 "metadata": {
  "kernelspec": {
   "display_name": "dnn_env",
   "language": "python",
   "name": "python3"
  },
  "language_info": {
   "codemirror_mode": {
    "name": "ipython",
    "version": 3
   },
   "file_extension": ".py",
   "mimetype": "text/x-python",
   "name": "python",
   "nbconvert_exporter": "python",
   "pygments_lexer": "ipython3",
   "version": "3.12.3"
  }
 },
 "nbformat": 4,
 "nbformat_minor": 2
}
