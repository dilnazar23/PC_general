{
 "cells": [
  {
   "cell_type": "markdown",
   "metadata": {},
   "source": [
    "# dummy lstm model input output comparison in cubemx validation on desktop"
   ]
  },
  {
   "cell_type": "markdown",
   "metadata": {},
   "source": [
    "## use the data file genratede by cube mx"
   ]
  },
  {
   "cell_type": "code",
   "execution_count": null,
   "metadata": {},
   "outputs": [],
   "source": [
    "# load the c_input and m_input\n",
    "# compare c_input and m_input\n",
    "# run the onnx model with c_input and m_input if they are the same\n",
    "import onnxruntime as ort\n",
    "\n",
    "# Load your ONNX model\n",
    "session = ort.InferenceSession(\"your_model.onnx\")\n",
    "\n",
    "# Run inference\n",
    "outputs = session.run(None, onnx_inputs)\n",
    "# compare the onnx model output with m_output and c_output\n"
   ]
  },
  {
   "cell_type": "code",
   "execution_count": 4,
   "metadata": {},
   "outputs": [],
   "source": [
    "import numpy as np"
   ]
  },
  {
   "cell_type": "markdown",
   "metadata": {},
   "source": []
  },
  {
   "cell_type": "code",
   "execution_count": 2,
   "metadata": {},
   "outputs": [],
   "source": [
    "# calculate the error of c model and python model\n",
    "def root_mean_square_error(y_true, y_pred):\n",
    "    return np.sqrt(np.mean((y_true - y_pred) ** 2))"
   ]
  },
  {
   "cell_type": "code",
   "execution_count": 7,
   "metadata": {},
   "outputs": [
    {
     "name": "stdout",
     "output_type": "stream",
     "text": [
      "Sequence 0: [-0.2641073   0.41115642], [ 1.299 -0.49 ]\n",
      "1.275810982203184\n",
      "Sequence 1: [-0.29753804  0.34487674], [-0.165  0.284]\n",
      "0.1031317349802407\n",
      "Sequence 2: [-0.267568   0.2435811], [-0.244  0.113]\n",
      "0.09382663348221017\n",
      "Sequence 3: [-0.31445557  0.19884318], [-0.67   0.079]\n",
      "0.2653057005574299\n",
      "Sequence 4: [-0.2316591  0.4861114], [-0.142  0.235]\n",
      "0.1885413607444929\n",
      "Sequence 5: [-0.3282672  0.4007343], [-0.134  0.42 ]\n",
      "0.13804150135435717\n",
      "Sequence 6: [-0.2830949   0.30971926], [-0.292  0.353]\n",
      "0.03124518571682363\n",
      "Sequence 7: [-0.29306847  0.35121945], [-0.165  0.356]\n",
      "0.09062115279128655\n",
      "Sequence 8: [-0.25717443  0.2366138 ], [-0.13   0.193]\n",
      "0.09506707946567229\n",
      "Sequence 9: [-0.22289605  0.23470165], [-0.211  0.224]\n",
      "0.01131462147676626\n"
     ]
    }
   ],
   "source": [
    "y_true=np.array([[-0.2641073 ,  0.41115642],\n",
    "    [-0.29753804,  0.34487674],\n",
    "    [-0.267568 ,  0.2435811],\n",
    "    [-0.31445557,  0.19884318],\n",
    "    [-0.2316591,  0.4861114],\n",
    "    [-0.3282672,  0.4007343],\n",
    "    [-0.2830949 ,  0.30971926],\n",
    "    [-0.29306847,  0.35121945],\n",
    "    [-0.25717443,  0.2366138 ],\n",
    "    [-0.22289605,  0.23470165]])\n",
    "y_pred=np.array([\n",
    "    [1.299, -0.49],\n",
    "    [-0.165, 0.284],\n",
    "    [-0.244, 0.113],\n",
    "    [-0.67, 0.079],\n",
    "    [-0.142, 0.235],\n",
    "    [-0.134, 0.42],\n",
    "    [-0.292, 0.353],\n",
    "    [-0.165, 0.356],\n",
    "    [-0.13, 0.193],\n",
    "    [-0.211, 0.224]\n",
    "])\n",
    "for i in range(len(y_true)):\n",
    "    print(f\"Sequence {i}: {y_true[i]}, {y_pred[i]}\")\n",
    "    print(root_mean_square_error(y_true[i], y_pred[i]))\n"
   ]
  },
  {
   "cell_type": "code",
   "execution_count": null,
   "metadata": {},
   "outputs": [],
   "source": []
  }
 ],
 "metadata": {
  "kernelspec": {
   "display_name": "ai-edge-env",
   "language": "python",
   "name": "python3"
  },
  "language_info": {
   "codemirror_mode": {
    "name": "ipython",
    "version": 3
   },
   "file_extension": ".py",
   "mimetype": "text/x-python",
   "name": "python",
   "nbconvert_exporter": "python",
   "pygments_lexer": "ipython3",
   "version": "3.11.11"
  }
 },
 "nbformat": 4,
 "nbformat_minor": 2
}
