{
 "cells": [
  {
   "cell_type": "markdown",
   "metadata": {},
   "source": [
    "# This notebook is used to process the gantry data and save it as a .pt file"
   ]
  },
  {
   "cell_type": "code",
   "execution_count": 11,
   "metadata": {},
   "outputs": [],
   "source": [
    "import numpy as np\n",
    "import matplotlib.pyplot as plt\n",
    "import os\n",
    "from pathlib import Path\n",
    "import csv\n",
    "from pathlib import Path"
   ]
  },
  {
   "cell_type": "markdown",
   "metadata": {},
   "source": [
    "## load data"
   ]
  },
  {
   "cell_type": "code",
   "execution_count": null,
   "metadata": {},
   "outputs": [],
   "source": [
    "## Params\n",
    "NUM_POS = 4096\n",
    "DARK_THRESHOLD = None\n",
    "\n",
    "# load data from csv file\n",
    "raw_data = np.loadtxt('gantry_data_1.csv', delimiter=',',usecols=(2,3,4,5))\n",
    "data_valid = np.array([_ for _ in raw_data if _ > DARK_THRESHOLD])"
   ]
  },
  {
   "cell_type": "code",
   "execution_count": 17,
   "metadata": {},
   "outputs": [
    {
     "data": {
      "text/plain": [
       "0.001433039522320162"
      ]
     },
     "execution_count": 17,
     "metadata": {},
     "output_type": "execute_result"
    }
   ],
   "source": [
    "# caluculate resolution in 18 meters, beam moving resolution\n",
    "import math\n",
    "math.tan((1/3517)*280e-6)*18e3"
   ]
  },
  {
   "cell_type": "code",
   "execution_count": null,
   "metadata": {},
   "outputs": [],
   "source": [
    "# plot the data\n",
    "plt.figure(figsize=(10,10))\n",
    "for i in range(4):\n",
    "    plt.scatter(range(len(data_valid)),data_valid[:,i],label=f'diod_{i+1}')\n",
    "plt.legend()\n",
    "plt.show()"
   ]
  },
  {
   "cell_type": "markdown",
   "metadata": {},
   "source": [
    "## Form train and valida data set"
   ]
  },
  {
   "cell_type": "code",
   "execution_count": 27,
   "metadata": {},
   "outputs": [],
   "source": [
    "# Form train set\n",
    "#### at each position in ((-8,8)step size 0.25, total 64*64 positions), random sampling 3 data points\n",
    "## form train input set\n",
    "train_input = data_valid[]\n",
    "## form train target set\n",
    "# make a list of number from -8 to 8 at step size 0.25, and each of the number repeat 3 times\n",
    "train_target = np.repeat(np.arange(-8,8,0.25),3)"
   ]
  },
  {
   "cell_type": "code",
   "execution_count": 30,
   "metadata": {},
   "outputs": [],
   "source": [
    "# Form valida set\n",
    "####at each position in ((-8,8)step size 0.25, total 64*64 positions), random sampling 1 data point\n",
    "val_input = np.zeros((64,64,4))\n",
    "val_target = np.arange(-8,8,0.25)"
   ]
  },
  {
   "cell_type": "code",
   "execution_count": 28,
   "metadata": {},
   "outputs": [
    {
     "data": {
      "text/plain": [
       "array([-8.  , -8.  , -8.  , -7.75, -7.75, -7.75, -7.5 , -7.5 , -7.5 ,\n",
       "       -7.25, -7.25, -7.25, -7.  , -7.  , -7.  , -6.75, -6.75, -6.75,\n",
       "       -6.5 , -6.5 , -6.5 , -6.25, -6.25, -6.25, -6.  , -6.  , -6.  ,\n",
       "       -5.75, -5.75, -5.75, -5.5 , -5.5 , -5.5 , -5.25, -5.25, -5.25,\n",
       "       -5.  , -5.  , -5.  , -4.75, -4.75, -4.75, -4.5 , -4.5 , -4.5 ,\n",
       "       -4.25, -4.25, -4.25, -4.  , -4.  , -4.  , -3.75, -3.75, -3.75,\n",
       "       -3.5 , -3.5 , -3.5 , -3.25, -3.25, -3.25, -3.  , -3.  , -3.  ,\n",
       "       -2.75, -2.75, -2.75, -2.5 , -2.5 , -2.5 , -2.25, -2.25, -2.25,\n",
       "       -2.  , -2.  , -2.  , -1.75, -1.75, -1.75, -1.5 , -1.5 , -1.5 ,\n",
       "       -1.25, -1.25, -1.25, -1.  , -1.  , -1.  , -0.75, -0.75, -0.75,\n",
       "       -0.5 , -0.5 , -0.5 , -0.25, -0.25, -0.25,  0.  ,  0.  ,  0.  ,\n",
       "        0.25,  0.25,  0.25,  0.5 ,  0.5 ,  0.5 ,  0.75,  0.75,  0.75,\n",
       "        1.  ,  1.  ,  1.  ,  1.25,  1.25,  1.25,  1.5 ,  1.5 ,  1.5 ,\n",
       "        1.75,  1.75,  1.75,  2.  ,  2.  ,  2.  ,  2.25,  2.25,  2.25,\n",
       "        2.5 ,  2.5 ,  2.5 ,  2.75,  2.75,  2.75,  3.  ,  3.  ,  3.  ,\n",
       "        3.25,  3.25,  3.25,  3.5 ,  3.5 ,  3.5 ,  3.75,  3.75,  3.75,\n",
       "        4.  ,  4.  ,  4.  ,  4.25,  4.25,  4.25,  4.5 ,  4.5 ,  4.5 ,\n",
       "        4.75,  4.75,  4.75,  5.  ,  5.  ,  5.  ,  5.25,  5.25,  5.25,\n",
       "        5.5 ,  5.5 ,  5.5 ,  5.75,  5.75,  5.75,  6.  ,  6.  ,  6.  ,\n",
       "        6.25,  6.25,  6.25,  6.5 ,  6.5 ,  6.5 ,  6.75,  6.75,  6.75,\n",
       "        7.  ,  7.  ,  7.  ,  7.25,  7.25,  7.25,  7.5 ,  7.5 ,  7.5 ,\n",
       "        7.75,  7.75,  7.75])"
      ]
     },
     "execution_count": 28,
     "metadata": {},
     "output_type": "execute_result"
    }
   ],
   "source": [
    "train_target"
   ]
  },
  {
   "cell_type": "markdown",
   "metadata": {},
   "source": [
    "# Real gantry data processing"
   ]
  },
  {
   "cell_type": "markdown",
   "metadata": {},
   "source": [
    "## load data and visualize"
   ]
  },
  {
   "cell_type": "markdown",
   "metadata": {},
   "source": [
    "fix the raw file and aplit line not enough data issue"
   ]
  },
  {
   "cell_type": "code",
   "execution_count": 23,
   "metadata": {},
   "outputs": [
    {
     "data": {
      "text/plain": [
       "1872498"
      ]
     },
     "execution_count": 23,
     "metadata": {},
     "output_type": "execute_result"
    }
   ],
   "source": [
    "# Define paths\n",
    "data_root_path = Path.cwd().parent/'data'\n",
    "raw_data_path = data_root_path/'pd_data'/'gantry_0213_160012.csv'\n",
    "\n",
    "# Read and process the file\n",
    "lines = raw_data_path.read_text().splitlines()[1:]  # skip the first headerline\n",
    "modified_lines = []\n",
    "\n",
    "for line in lines:\n",
    "    line_list = line.split(',')\n",
    "    if line_list[1].startswith('s') or line_list[1].startswith('W'):\n",
    "        line = f\"{line.strip()},0.0,0.0,0.0,0.0\"\n",
    "    modified_lines.append(line)\n",
    "\n",
    "# Write back to file\n",
    "raw_data_path.write_text('\\n'.join(modified_lines))\n",
    "# raw_data = np.loadtxt(raw_data_path, delimiter=',',skiprows=1,usecols=range(2,10))\n"
   ]
  },
  {
   "cell_type": "code",
   "execution_count": 72,
   "metadata": {},
   "outputs": [
    {
     "name": "stdout",
     "output_type": "stream",
     "text": [
      "6603\n",
      "13192\n"
     ]
    }
   ],
   "source": [
    "data_root_path = Path.cwd().parent/'data'\n",
    "\n",
    "pd_data_path = data_root_path/'pd_data'\n",
    "gantry_data_path = data_root_path/'gantry_pos_data'\n",
    "\n",
    "pd_data = []\n",
    "for file in Path(pd_data_path).glob('gantry*.csv'):\n",
    "    # go through all the line in file, if the \n",
    "    # split the line by comma and convert the string to int\n",
    "    line_data = []\n",
    "    for line in file.read_text().split('\\n'):\n",
    "        line = line.split(',')\n",
    "        if line[1] in ['s','W']:\n",
    "            continue\n",
    "        line_data.extend([int(float(x)) for x in line[2:]])\n",
    "        if line[1] == 'G4':\n",
    "            pd_data.append(line_data)\n",
    "            line_data = []\n",
    "    print(len(pd_data))\n"
   ]
  },
  {
   "cell_type": "code",
   "execution_count": 73,
   "metadata": {},
   "outputs": [
    {
     "data": {
      "text/plain": [
       "32"
      ]
     },
     "execution_count": 73,
     "metadata": {},
     "output_type": "execute_result"
    }
   ],
   "source": [
    "len(pd_data[1])"
   ]
  },
  {
   "cell_type": "code",
   "execution_count": null,
   "metadata": {},
   "outputs": [],
   "source": []
  }
 ],
 "metadata": {
  "kernelspec": {
   "display_name": "dnn_env",
   "language": "python",
   "name": "python3"
  },
  "language_info": {
   "codemirror_mode": {
    "name": "ipython",
    "version": 3
   },
   "file_extension": ".py",
   "mimetype": "text/x-python",
   "name": "python",
   "nbconvert_exporter": "python",
   "pygments_lexer": "ipython3",
   "version": "3.12.3"
  }
 },
 "nbformat": 4,
 "nbformat_minor": 2
}
