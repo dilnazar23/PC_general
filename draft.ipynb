{
 "cells": [
  {
   "cell_type": "code",
   "execution_count": 2,
   "metadata": {},
   "outputs": [
    {
     "data": {
      "text/plain": [
       "32"
      ]
     },
     "execution_count": 2,
     "metadata": {},
     "output_type": "execute_result"
    }
   ],
   "source": [
    "len([0.2267, 0.0597, 0.0503, 0.3011, 1.2365, 1.5440, 0.4285, 1.3689,\n",
    "          0.3082, 0.5707, 0.5774, 0.8822, 1.2208, 0.6043, 0.3694, 1.0900,\n",
    "          0.9220, 1.8454, 0.2112, 0.5280, 0.4963, 1.0931, 0.5549, 1.9059,\n",
    "          0.3433, 0.4696, 1.4441, 0.9495, 0.6464, 0.3288, 0.5617, 1.1630])"
   ]
  },
  {
   "cell_type": "code",
   "execution_count": null,
   "metadata": {},
   "outputs": [],
   "source": []
  }
 ],
 "metadata": {
  "kernelspec": {
   "display_name": "dnn_env",
   "language": "python",
   "name": "python3"
  },
  "language_info": {
   "codemirror_mode": {
    "name": "ipython",
    "version": 3
   },
   "file_extension": ".py",
   "mimetype": "text/x-python",
   "name": "python",
   "nbconvert_exporter": "python",
   "pygments_lexer": "ipython3",
   "version": "3.12.3"
  }
 },
 "nbformat": 4,
 "nbformat_minor": 2
}
