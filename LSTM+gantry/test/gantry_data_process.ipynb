{
 "cells": [
  {
   "cell_type": "markdown",
   "metadata": {},
   "source": [
    "# This notebook is used to process the gantry data and save it as a .pt file"
   ]
  },
  {
   "cell_type": "code",
   "execution_count": 1,
   "metadata": {},
   "outputs": [],
   "source": [
    "import numpy as np\n",
    "import matplotlib.pyplot as plt\n",
    "import os\n",
    "from pathlib import Path"
   ]
  },
  {
   "cell_type": "markdown",
   "metadata": {},
   "source": [
    "## load data"
   ]
  },
  {
   "cell_type": "code",
   "execution_count": null,
   "metadata": {},
   "outputs": [],
   "source": [
    "## Params\n",
    "NUM_POS = 4096\n",
    "DARK_THRESHOLD = None\n",
    "\n",
    "# load data from csv file\n",
    "raw_data = np.loadtxt('gantry_data_1.csv', delimiter=',',usecols=(2,3,4,5))\n",
    "data_valid = np.array([_ for _ in raw_data if _ > DARK_THRESHOLD])"
   ]
  },
  {
   "cell_type": "code",
   "execution_count": 17,
   "metadata": {},
   "outputs": [
    {
     "data": {
      "text/plain": [
       "0.001433039522320162"
      ]
     },
     "execution_count": 17,
     "metadata": {},
     "output_type": "execute_result"
    }
   ],
   "source": [
    "# caluculate resolution in 18 meters, beam moving resolution\n",
    "import math\n",
    "math.tan((1/3517)*280e-6)*18e3"
   ]
  },
  {
   "cell_type": "code",
   "execution_count": null,
   "metadata": {},
   "outputs": [],
   "source": [
    "# plot the data\n",
    "plt.figure(figsize=(10,10))\n",
    "for i in range(4):\n",
    "    plt.scatter(range(len(data_valid)),data_valid[:,i],label=f'diod_{i+1}')\n",
    "plt.legend()\n",
    "plt.show()"
   ]
  },
  {
   "cell_type": "markdown",
   "metadata": {},
   "source": [
    "## Form train and valida data set"
   ]
  },
  {
   "cell_type": "code",
   "execution_count": 27,
   "metadata": {},
   "outputs": [],
   "source": [
    "# Form train set\n",
    "#### at each position in ((-8,8)step size 0.25, total 64*64 positions), random sampling 3 data points\n",
    "## form train input set\n",
    "train_input = data_valid[]\n",
    "## form train target set\n",
    "# make a list of number from -8 to 8 at step size 0.25, and each of the number repeat 3 times\n",
    "train_target = np.repeat(np.arange(-8,8,0.25),3)"
   ]
  },
  {
   "cell_type": "code",
   "execution_count": 30,
   "metadata": {},
   "outputs": [],
   "source": [
    "# Form valida set\n",
    "####at each position in ((-8,8)step size 0.25, total 64*64 positions), random sampling 1 data point\n",
    "val_input = np.zeros((64,64,4))\n",
    "val_target = np.arange(-8,8,0.25)"
   ]
  },
  {
   "cell_type": "code",
   "execution_count": 28,
   "metadata": {},
   "outputs": [
    {
     "data": {
      "text/plain": [
       "array([-8.  , -8.  , -8.  , -7.75, -7.75, -7.75, -7.5 , -7.5 , -7.5 ,\n",
       "       -7.25, -7.25, -7.25, -7.  , -7.  , -7.  , -6.75, -6.75, -6.75,\n",
       "       -6.5 , -6.5 , -6.5 , -6.25, -6.25, -6.25, -6.  , -6.  , -6.  ,\n",
       "       -5.75, -5.75, -5.75, -5.5 , -5.5 , -5.5 , -5.25, -5.25, -5.25,\n",
       "       -5.  , -5.  , -5.  , -4.75, -4.75, -4.75, -4.5 , -4.5 , -4.5 ,\n",
       "       -4.25, -4.25, -4.25, -4.  , -4.  , -4.  , -3.75, -3.75, -3.75,\n",
       "       -3.5 , -3.5 , -3.5 , -3.25, -3.25, -3.25, -3.  , -3.  , -3.  ,\n",
       "       -2.75, -2.75, -2.75, -2.5 , -2.5 , -2.5 , -2.25, -2.25, -2.25,\n",
       "       -2.  , -2.  , -2.  , -1.75, -1.75, -1.75, -1.5 , -1.5 , -1.5 ,\n",
       "       -1.25, -1.25, -1.25, -1.  , -1.  , -1.  , -0.75, -0.75, -0.75,\n",
       "       -0.5 , -0.5 , -0.5 , -0.25, -0.25, -0.25,  0.  ,  0.  ,  0.  ,\n",
       "        0.25,  0.25,  0.25,  0.5 ,  0.5 ,  0.5 ,  0.75,  0.75,  0.75,\n",
       "        1.  ,  1.  ,  1.  ,  1.25,  1.25,  1.25,  1.5 ,  1.5 ,  1.5 ,\n",
       "        1.75,  1.75,  1.75,  2.  ,  2.  ,  2.  ,  2.25,  2.25,  2.25,\n",
       "        2.5 ,  2.5 ,  2.5 ,  2.75,  2.75,  2.75,  3.  ,  3.  ,  3.  ,\n",
       "        3.25,  3.25,  3.25,  3.5 ,  3.5 ,  3.5 ,  3.75,  3.75,  3.75,\n",
       "        4.  ,  4.  ,  4.  ,  4.25,  4.25,  4.25,  4.5 ,  4.5 ,  4.5 ,\n",
       "        4.75,  4.75,  4.75,  5.  ,  5.  ,  5.  ,  5.25,  5.25,  5.25,\n",
       "        5.5 ,  5.5 ,  5.5 ,  5.75,  5.75,  5.75,  6.  ,  6.  ,  6.  ,\n",
       "        6.25,  6.25,  6.25,  6.5 ,  6.5 ,  6.5 ,  6.75,  6.75,  6.75,\n",
       "        7.  ,  7.  ,  7.  ,  7.25,  7.25,  7.25,  7.5 ,  7.5 ,  7.5 ,\n",
       "        7.75,  7.75,  7.75])"
      ]
     },
     "execution_count": 28,
     "metadata": {},
     "output_type": "execute_result"
    }
   ],
   "source": [
    "train_target"
   ]
  },
  {
   "cell_type": "code",
   "execution_count": null,
   "metadata": {},
   "outputs": [],
   "source": []
  }
 ],
 "metadata": {
  "kernelspec": {
   "display_name": "dnn_env",
   "language": "python",
   "name": "python3"
  },
  "language_info": {
   "codemirror_mode": {
    "name": "ipython",
    "version": 3
   },
   "file_extension": ".py",
   "mimetype": "text/x-python",
   "name": "python",
   "nbconvert_exporter": "python",
   "pygments_lexer": "ipython3",
   "version": "3.12.3"
  }
 },
 "nbformat": 4,
 "nbformat_minor": 2
}
