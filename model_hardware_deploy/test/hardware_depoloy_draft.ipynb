{
 "cells": [
  {
   "cell_type": "code",
   "execution_count": 2,
   "metadata": {},
   "outputs": [],
   "source": [
    "import onnxruntime as ort\n",
    "import numpy as np\n",
    "import torch\n",
    "from torch.utils.data import Dataset, DataLoader"
   ]
  },
  {
   "cell_type": "markdown",
   "metadata": {},
   "source": [
    "## inference on entire training set on onnx model and save output"
   ]
  },
  {
   "cell_type": "code",
   "execution_count": null,
   "metadata": {},
   "outputs": [],
   "source": [
    "# load data from .pt file with keys 'inputs' and 'targets'\n",
    "class SequenceDataset(Dataset):\n",
    "    def __init__(self, train_path, seq_length=40):\n",
    "        self.inputs, self.targets = torch.load(train_path)\n",
    "        self.seq_length = seq_length\n",
    "        \n",
    "    def __len__(self):\n",
    "        return len(self.inputs) - self.seq_length + 1\n",
    "    \n",
    "    def __getitem__(self, idx):\n",
    "        return (self.inputs[idx:idx + self.seq_length], \n",
    "                self.targets[idx + self.seq_length - 1])\n",
    "\n",
    "# load model from .onnx file\n",
    "# run inference\n",
    "# save output to .npz file\n",
    "\n"
   ]
  }
 ],
 "metadata": {
  "kernelspec": {
   "display_name": "dnn_env",
   "language": "python",
   "name": "python3"
  },
  "language_info": {
   "codemirror_mode": {
    "name": "ipython",
    "version": 3
   },
   "file_extension": ".py",
   "mimetype": "text/x-python",
   "name": "python",
   "nbconvert_exporter": "python",
   "pygments_lexer": "ipython3",
   "version": "3.12.3"
  }
 },
 "nbformat": 4,
 "nbformat_minor": 2
}
